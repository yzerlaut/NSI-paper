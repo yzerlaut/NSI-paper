{
 "cells": [
  {
   "cell_type": "code",
   "execution_count": 1,
   "metadata": {
    "autoscroll": false,
    "collapsed": false,
    "ein.tags": "worksheet-0",
    "slideshow": {
     "slide_type": "skip"
    }
   },
   "outputs": [],
   "source": [
    "\"\"\"\n",
    "Necessary modules\n",
    "\"\"\"\n",
    "import sys, os\n",
    "%load_ext autoreload\n",
    "%autoreload 2 # autoreload to debug/modify modules\n",
    "import numpy as np\n",
    "from graphs.my_graph import * # my custom module for plots\n",
    "%matplotlib inline"
   ]
  },
  {
   "cell_type": "code",
   "execution_count": 2,
   "metadata": {
    "autoscroll": false,
    "collapsed": false,
    "ein.tags": "worksheet-0",
    "slideshow": {
     "slide_type": "-"
    }
   },
   "outputs": [],
   "source": [
    "%run cortical_arousal_index/exp_data.py"
   ]
  },
  {
   "cell_type": "markdown",
   "metadata": {
    "ein.tags": "worksheet-0",
    "slideshow": {
     "slide_type": "-"
    }
   },
   "source": [
    "## Population analysis"
   ]
  },
  {
   "cell_type": "markdown",
   "metadata": {
    "ein.tags": "worksheet-0",
    "slideshow": {
     "slide_type": "-"
    }
   },
   "source": [
    "# Full Dataset Analysis"
   ]
  },
  {
   "cell_type": "code",
   "execution_count": 3,
   "metadata": {
    "autoscroll": false,
    "collapsed": false,
    "ein.tags": "worksheet-0",
    "slideshow": {
     "slide_type": "-"
    }
   },
   "outputs": [],
   "source": [
    "# ORDERING THE DATASET ACCORDING TO CORRELATIONS\n",
    "%run cortical_arousal_index/exp_data.py\n",
    "DATASET = get_one_dataset('../sparse_vs_balanced/sparse_vs_balanced/data/Wild_Type')\n",
    "\n",
    "OUTPUT = dict(np.load('cortical_arousal_index/data/final_smooth.npz'))\n",
    "mean_Output = np.mean(OUTPUT['CROSS_CORRELS'], axis=-1)\n",
    "NORM = np.zeros(OUTPUT['CROSS_CORRELS'].shape)\n",
    "Tsmooth = 1e3*OUTPUT['T_SMOOTH']\n",
    "order = np.argsort(np.mean(OUTPUT['CROSS_CORRELS'], axis=0))\n",
    "#print(OUTPUT['FILENAMES'][order]) \n",
    "iordered = np.empty(len(DATASET), dtype=np.int)\n",
    "for i, cell in enumerate(DATASET):\n",
    "    i0 = np.argwhere(cell['files'][0].replace('../', '../../')==OUTPUT['FILENAMES'][order])[0][0]\n",
    "    iordered[i0] = i\n",
    "DATASET_ORDERED = []\n",
    "for i in range(len(DATASET)):\n",
    "    DATASET_ORDERED.append(DATASET[iordered[i]])\n",
    "    #print(DATASET_ORDERED[i]['files'][0])\n",
    "DATASET = DATASET_ORDERED # OVERWRITING DATASET WITH ITS ORDER VERSION"
   ]
  },
  {
   "cell_type": "code",
   "execution_count": 4,
   "metadata": {
    "autoscroll": false,
    "collapsed": false,
    "ein.tags": "worksheet-0",
    "slideshow": {
     "slide_type": "-"
    }
   },
   "outputs": [],
   "source": [
    "#######################################################\n",
    "## LOAD ALL DATASET AND STORE THE NSI OUTPUT ON DISK ##\n",
    "#######################################################\n",
    "\n",
    "DATA = []\n",
    "for i in range(len(DATASET)):\n",
    "    DATA.append(load_data(DATASET[i]['files'][0], args, full_processing=True))\n",
    "    functions.compute_Network_State_Index(DATA[i],\n",
    "                                          key='sbsmpl_Vm',\n",
    "                                          target_key='Vm_NSI',\n",
    "                                          p0_key='p0_Vm',\n",
    "                                          Tstate=args.Tstate,\n",
    "                                          Var_criteria=1000, # NOT USED, WE USE THE VALIDATION OF pLFP !!\n",
    "                                          alpha=args.alpha,\n",
    "                                          T_sliding_mean=args.T_sliding_mean)\n",
    "    DATA[i]['cc-Vm-LFP'] = np.corrcoef(DATA[i]['sbsmpl_Vm'], DATA[i]['sbsmpl_Extra'])[0,1]\n",
    "    DATA[i]['cc-Vm-pLFP'] = np.corrcoef(DATA[i]['sbsmpl_Vm'], DATA[i]['pLFP'])[0,1]"
   ]
  },
  {
   "cell_type": "code",
   "execution_count": 5,
   "metadata": {
    "autoscroll": false,
    "collapsed": false,
    "ein.tags": "worksheet-0",
    "slideshow": {
     "slide_type": "-"
    }
   },
   "outputs": [],
   "source": [
    "# storing a dictionary with the NSI data and its parameters\n",
    "CELLS = {'Ncell':len(DATASET)}\n",
    "dd = dict(vars(args))\n",
    "for key, val in dd.items():\n",
    "    CELLS[key] = val\n",
    "min_NSI, max_NSI, max_time_shift, dt_shift = 0, 0, 0, 1.\n",
    "for i in range(len(DATASET)):\n",
    "    CELLS['cell'+str(i+1)] = {'validated_t':DATA[i]['sbsmpl_t'][DATA[i]['NSI_validated']],\\\n",
    "                              'validated_NSI':DATA[i]['NSI'][DATA[i]['NSI_validated']]}\n",
    "    min_NSI = min([CELLS['cell'+str(i+1)]['validated_NSI'].min(), min_NSI])    \n",
    "    max_NSI = max([CELLS['cell'+str(i+1)]['validated_NSI'].max(), max_NSI])    \n",
    "    max_time_shift = max([DATA[i]['t'][-1]-DATA[i]['t'][0], max_time_shift])    \n",
    "    dt_shift = min([np.diff(CELLS['cell'+str(i+1)]['validated_t']).min(), dt_shift]) # the time bin is the minimum interval (Tstate in methods)\n",
    "for key, val in zip(['min_NSI', 'max_NSI', 'max_time_shift', 'dt_shift'], [min_NSI, max_NSI, max_time_shift, dt_shift]):\n",
    "    CELLS[key] = val\n",
    "\n",
    "np.savez('cortical_arousal_index/data/final_validated_NSI.npz', **CELLS)    "
   ]
  },
  {
   "cell_type": "code",
   "execution_count": 6,
   "metadata": {
    "autoscroll": false,
    "collapsed": false,
    "ein.tags": "worksheet-0",
    "slideshow": {
     "slide_type": "-"
    }
   },
   "outputs": [],
   "source": [
    "# loading those data\n",
    "CELLS = dict(np.load('cortical_arousal_index/data/final_validated_NSI.npz'))"
   ]
  },
  {
   "cell_type": "code",
   "execution_count": 8,
   "metadata": {
    "autoscroll": false,
    "collapsed": false,
    "ein.tags": "worksheet-0",
    "slideshow": {
     "slide_type": "-"
    }
   },
   "outputs": [
    {
     "data": {
      "text/plain": [
       "array(0.1995)"
      ]
     },
     "execution_count": 8,
     "metadata": {},
     "output_type": "execute_result"
    }
   ],
   "source": [
    "CELLS['dt_shift']"
   ]
  },
  {
   "cell_type": "code",
   "execution_count": 9,
   "metadata": {
    "autoscroll": false,
    "collapsed": false,
    "ein.tags": "worksheet-0",
    "slideshow": {
     "slide_type": "-"
    }
   },
   "outputs": [
    {
     "name": "stdout",
     "output_type": "stream",
     "text": [
      "analyzing cell  1 [...]\n"
     ]
    },
    {
     "name": "stdout",
     "output_type": "stream",
     "text": [
      "\n",
      "analyzing cell  2 [...]\n"
     ]
    },
    {
     "name": "stdout",
     "output_type": "stream",
     "text": [
      "\n",
      "analyzing cell  3 [...]\n"
     ]
    },
    {
     "name": "stdout",
     "output_type": "stream",
     "text": [
      "\n",
      "analyzing cell  4 [...]\n"
     ]
    },
    {
     "name": "stdout",
     "output_type": "stream",
     "text": [
      "\n",
      "analyzing cell  5 [...]\n"
     ]
    },
    {
     "name": "stdout",
     "output_type": "stream",
     "text": [
      "\n",
      "analyzing cell  6 [...]\n"
     ]
    },
    {
     "name": "stdout",
     "output_type": "stream",
     "text": [
      "\n",
      "analyzing cell  7 [...]\n"
     ]
    },
    {
     "name": "stdout",
     "output_type": "stream",
     "text": [
      "\n",
      "analyzing cell  8 [...]\n"
     ]
    },
    {
     "name": "stdout",
     "output_type": "stream",
     "text": [
      "\n",
      "analyzing cell  9 [...]\n"
     ]
    },
    {
     "name": "stdout",
     "output_type": "stream",
     "text": [
      "\n",
      "analyzing cell  10 [...]\n"
     ]
    },
    {
     "name": "stdout",
     "output_type": "stream",
     "text": [
      "\n",
      "analyzing cell  11 [...]\n"
     ]
    },
    {
     "name": "stdout",
     "output_type": "stream",
     "text": [
      "\n",
      "analyzing cell  12 [...]\n"
     ]
    },
    {
     "name": "stdout",
     "output_type": "stream",
     "text": [
      "\n",
      "analyzing cell  13 [...]\n"
     ]
    },
    {
     "name": "stdout",
     "output_type": "stream",
     "text": [
      "\n",
      "analyzing cell  14 [...]\n"
     ]
    },
    {
     "name": "stdout",
     "output_type": "stream",
     "text": [
      "\n"
     ]
    }
   ],
   "source": [
    "#######################################################################################\n",
    "####### building the time-dependent histogram of state transitions ####################\n",
    "#######################################################################################\n",
    "\n",
    "max_time_shift, dt_shift = CELLS['max_time_shift'], CELLS['dt_shift']\n",
    "NSI_Bin_Edges = np.arange(19)*2-14 #np.linspace(-20, 20, NSI_DISCRETISATION)\n",
    "NSI0, DNSI = NSI_Bin_Edges[0], NSI_Bin_Edges[1]-NSI_Bin_Edges[0]\n",
    "time_shifts_edges0 = np.logspace(np.log10(dt_shift), np.log10(max_time_shift), 20)\n",
    "time_shifts_edges = np.concatenate([-time_shifts_edges0[::-1], time_shifts_edges0])\n",
    "time_shifts = 0.5*(time_shifts_edges[1:]+time_shifts_edges[:-1])\n",
    "time_shifts = 0.5*(time_shifts_edges[1:]+time_shifts_edges[:-1])\n",
    "NSI_Bin = .5*(NSI_Bin_Edges[1:]+NSI_Bin_Edges[:-1])\n",
    "Time_Lagged_Joint_Histogram = np.zeros((len(NSI_Bin),len(NSI_Bin), len(time_shifts), CELLS['Ncell']))\n",
    "NSI_at_t, NSI_at_t_T = np.meshgrid(NSI_Bin, NSI_Bin)\n",
    "\n",
    "subsample = 500\n",
    "verbose = False\n",
    "\n",
    "for c in range(CELLS['Ncell']):\n",
    "    print('analyzing cell ', c+1, '[...]')\n",
    "    t, NSI = CELLS['cell'+str(c+1)].item()['validated_t'], CELLS['cell'+str(c+1)].item()['validated_NSI']\n",
    "    t0 = t[0]\n",
    "    \n",
    "    if subsample is not None:\n",
    "        cond = np.sort(np.random.choice(np.arange(len(t)), subsample))\n",
    "        t, NSI = t[cond], NSI[cond]\n",
    "\n",
    "    Time_Lagged_Joint_Histogram[np.arange(len(NSI_Bin)), np.arange(len(NSI_Bin)),\\\n",
    "                                int(len(time_shifts)/2), c] += np.histogram(NSI, bins=NSI_Bin_Edges)[0]\n",
    "    time=0\n",
    "    for i in range(len(t)):\n",
    "        # if ((t[i]-time)>60.) and verbose:\n",
    "        #     time+=60\n",
    "        #     print('- %imin (%i%%) ' % (int(time/60.), 100.*round(t[i]/t[-1],2)), end=\"\", flush=True)\n",
    "        for j in range(len(t)):\n",
    "            shift = np.argmin((t[j]-t[i]-time_shifts)**2) # (t[j]-t[i]+max_time_shift)/dt_shift\n",
    "            preS = np.argmin((NSI[i]-NSI_Bin)**2) # int((NSI[i]-NSI0)/DNSI)\n",
    "            postS = np.argmin((NSI[j]-NSI_Bin)**2) # int((NSI[j]-NSI0)/DNSI)\n",
    "            Time_Lagged_Joint_Histogram[preS, postS, shift, c] += 1\n",
    "            Time_Lagged_Joint_Histogram[postS, preS, 2*int(len(time_shifts)/2)-shift, c] += 1\n",
    "    print('') # to have a new cell\n",
    "\n",
    "np.savez('cortical_arousal_index/data/Time_Lagged_Joint_Histogram.npz',\n",
    "         **{'NSI_at_t':NSI_at_t,\n",
    "            'NSI_at_t_T':NSI_at_t_T,\n",
    "            'time_shifts':time_shifts,\n",
    "            'time_shifts_edges':time_shifts_edges,\n",
    "            'Time_Lagged_Joint_Histogram':Time_Lagged_Joint_Histogram})\n"
   ]
  },
  {
   "cell_type": "code",
   "execution_count": 10,
   "metadata": {
    "autoscroll": false,
    "collapsed": false,
    "ein.tags": "worksheet-0",
    "slideshow": {
     "slide_type": "-"
    }
   },
   "outputs": [],
   "source": [
    "data = dict(np.load('cortical_arousal_index/data/Time_Lagged_Joint_Histogram.npz'))"
   ]
  },
  {
   "cell_type": "code",
   "execution_count": 27,
   "metadata": {
    "autoscroll": false,
    "collapsed": false,
    "ein.tags": "worksheet-0",
    "slideshow": {
     "slide_type": "-"
    }
   },
   "outputs": [
    {
     "data": {
      "image/png": "[encoded data removed]",
      "text/plain": [
       "<Figure size 1243.01x101.088 with 13 Axes>"
      ]
     },
     "metadata": {},
     "output_type": "display_data"
    }
   ],
   "source": [
    "from graphs.surface_plots import twoD_plot\n",
    "from graphs.my_graph import * \n",
    "\n",
    "def format_time(T, DT=0):\n",
    "    \n",
    "    if int(abs(T)/3600.)>0:\n",
    "        unit, factor = 'h', 1/3600.\n",
    "    elif int(abs(T)/60.)>0:\n",
    "        unit, factor = 'min', 1/60.\n",
    "    elif abs(T)<1:\n",
    "        unit, factor = 'ms', 1e3\n",
    "    else:\n",
    "        unit, factor = 's', 1.\n",
    "        \n",
    "    return \"%.0f\"%(T*factor)+unit\n",
    "\n",
    "    \n",
    "def plot_T_dep_projec_of_joint_hist(data,\n",
    "                                    lags=None,\n",
    "                                    min_proba=1e-4):\n",
    "    \"\"\"\n",
    "\n",
    "    \"\"\"\n",
    "\n",
    "    if lags is None:\n",
    "        lags = data['time_shifts']\n",
    "\n",
    "    fig, AX = figure(axes=(1,len(lags)), top=10., figsize=(.8,1.))\n",
    "\n",
    "        \n",
    "    for lag, ax in zip(lags, AX):\n",
    "\n",
    "        ilag = np.argmin((data['time_shifts']-lag)**2)\n",
    "        \n",
    "        norm = data['Time_Lagged_Joint_Histogram'][:,:,ilag, :].sum()\n",
    "        occur_fraction = np.log10(100.*data['Time_Lagged_Joint_Histogram'][:,:,ilag, :].sum(axis=2)/norm+min_proba)\n",
    "\n",
    "        ax, acb = twoD_plot(data['NSI_at_t'].flatten(), data['NSI_at_t_T'].flatten(),\n",
    "                            occur_fraction.flatten(),\n",
    "                            ax=ax,\n",
    "                            vmin=np.log10(min_proba), vmax=2.,\n",
    "                            bar_legend=None)\n",
    "    \n",
    "        ax.plot(NSI_Bin, NSI_Bin, 'r:', lw=0.5)\n",
    "        ax.plot([0,0,NSI_Bin[0]], [NSI_Bin[0],0, 0], 'r:', lw=0.5)\n",
    "        ax.set_title('T='+format_time(data['time_shifts'][ilag])+\" ($\\pm$\"+\\\n",
    "                     format_time(round(np.diff(data['time_shifts_edges'])[ilag]/2))+\")\")\n",
    "        \n",
    "        if ax==AX[0]:\n",
    "            set_plot(ax, xlabel='NSI ($\\mu$V) at $t$', ylabel='NSI ($\\mu$V) at $t+T$')\n",
    "        else:\n",
    "            set_plot(ax, xlabel='NSI ($\\mu$V) at $t$', ylabel='', yticks_labels=[])\n",
    "\n",
    "    # then build a bar legend for the proba\n",
    "    AX[-1]        \n",
    "            \n",
    "    return fig\n",
    "\n",
    "fig = plot_T_dep_projec_of_joint_hist(data, lags=data['time_shifts'][1::3])"
   ]
  },
  {
   "cell_type": "code",
   "execution_count": 17,
   "metadata": {
    "autoscroll": false,
    "collapsed": false,
    "ein.tags": "worksheet-0",
    "slideshow": {
     "slide_type": "-"
    }
   },
   "outputs": [],
   "source": []
  }
 ],
 "metadata": {
  "anaconda-cloud": null,
  "kernelspec": {
   "display_name": "Python [Root]",
   "name": "Python [Root]"
  },
  "language_info": {
   "codemirror_mode": {
    "name": "ipython",
    "version": 3
   },
   "file_extension": ".py",
   "mimetype": "text/x-python",
   "name": "python",
   "nbconvert_exporter": "python",
   "pygments_lexer": "ipython3",
   "version": "3.5.5"
  },
  "name": "infra_slow_dyn.ipynb"
 },
 "nbformat": 4,
 "nbformat_minor": 1
}
